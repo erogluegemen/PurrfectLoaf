{
 "cells": [
  {
   "cell_type": "code",
   "execution_count": 1,
   "metadata": {},
   "outputs": [],
   "source": [
    "import os\n",
    "import cv2\n",
    "import pickle\n",
    "import random\n",
    "import Augmentor\n",
    "import numpy as np\n",
    "from bing_image_downloader import downloader  # !pip install bing-image-downloader"
   ]
  },
  {
   "cell_type": "code",
   "execution_count": 3,
   "metadata": {},
   "outputs": [],
   "source": [
    "def get_bing_images(search_title:str, limit:int) -> None:\n",
    "    downloader.download(search_title,\n",
    "                        output_dir='images',\n",
    "                        limit=limit, \n",
    "                        timeout=60)"
   ]
  },
  {
   "cell_type": "code",
   "execution_count": 4,
   "metadata": {},
   "outputs": [],
   "source": [
    "def augment_images(path:str) -> None:\n",
    "    p = Augmentor.Pipeline(path)  # have source_directory, output_directory parameters.\n",
    "    p.zoom(probability=0.3, min_factor=0.8, max_factor=1.5)\n",
    "    p.flip_top_bottom(probability=0.4)\n",
    "    p.flip_left_right(probability=0.4)\n",
    "    p.rotate90(probability=0.75)\n",
    "    p.skew(probability=0.2)\n",
    "    p.shear(probability=0.2, max_shear_left=2, max_shear_right=2)\n",
    "    p.rotate(probability=0.2, max_left_rotation=2, max_right_rotation=2)\n",
    "    p.random_brightness(probability=0.3, min_factor=0.3, max_factor=1.2)\n",
    "    p.random_distortion(probability=1, grid_width=4, grid_height=4, magnitude=8)\n",
    "    p.sample(200)"
   ]
  },
  {
   "cell_type": "code",
   "execution_count": 5,
   "metadata": {},
   "outputs": [],
   "source": [
    "def rename_images(folder_path: str, prefix: str) -> None:\n",
    "    files = os.listdir(folder_path)\n",
    "\n",
    "    image_files = [file for file in files if file.endswith(('.jpg', '.JPG', \n",
    "                                                            '.JPEG', 'jpeg', \n",
    "                                                            '.png', '.PNG'))]\n",
    "    image_files.sort()\n",
    "\n",
    "    for i, file in enumerate(image_files):\n",
    "        file_extension = os.path.splitext(file)[1].lower()\n",
    "\n",
    "        new_name = f\"{prefix}_{i+1}{file_extension}\"\n",
    "\n",
    "        old_path = os.path.join(folder_path, file)\n",
    "        new_path = os.path.join(folder_path, new_name)\n",
    "\n",
    "        os.rename(old_path, new_path)\n",
    "        print(f\"Renamed {file} to {new_name}\")"
   ]
  },
  {
   "cell_type": "code",
   "execution_count": 13,
   "metadata": {},
   "outputs": [],
   "source": [
    "CWD = os.getcwd()\n",
    "DIR = str(CWD) + '/images/'\n",
    "CATEGORIES = ['loaf', 'cat']\n",
    "\n",
    "loaf_cats_folder_path = DIR + CATEGORIES[0]\n",
    "cats_folder_path = DIR + CATEGORIES[1]"
   ]
  },
  {
   "cell_type": "code",
   "execution_count": null,
   "metadata": {},
   "outputs": [],
   "source": [
    "get_bing_images(search_title='loaf cats', limit=100)\n",
    "get_bing_images(search_title='cats', limit=100)\n",
    "\n",
    "for category in CATEGORIES:\n",
    "    #print(DIRECTORY + category)\n",
    "    try: \n",
    "        augment_images(DIR + category)\n",
    "    except Exception as e: print(e)\n",
    "\n",
    "os.rename('/Users/egemeneroglu/Desktop/Files/Projects/loaf_cf/images/loaf cats', loaf_cats_folder_path)\n",
    "os.rename('/Users/egemeneroglu/Desktop/Files/Projects/loaf_cf/images/cats', cats_folder_path)\n",
    "\n",
    "rename_images(loaf_cats_folder_path, 'loaf_cat')\n",
    "rename_images(cats_folder_path, 'cat')"
   ]
  },
  {
   "cell_type": "code",
   "execution_count": 45,
   "metadata": {},
   "outputs": [],
   "source": [
    "def delete_ds_store_files(folder_path:str) -> None:\n",
    "    for root, dirs, files in os.walk(folder_path):\n",
    "        for file in files:\n",
    "            if file == \".DS_Store\":\n",
    "                file_path = os.path.join(root, file)\n",
    "                os.remove(file_path)"
   ]
  },
  {
   "cell_type": "code",
   "execution_count": 46,
   "metadata": {},
   "outputs": [
    {
     "name": "stdout",
     "output_type": "stream",
     "text": [
      "Total Data: 600 images.\n"
     ]
    }
   ],
   "source": [
    "IMAGE_SIZE = 100\n",
    "\n",
    "data = [] \n",
    "\n",
    "for category in CATEGORIES:\n",
    "    folder = os.path.join(DIR, category)\n",
    "    label = CATEGORIES.index(category)\n",
    "    delete_ds_store_files(folder_path=folder)\n",
    "    for img in os.listdir(folder):\n",
    "        img_path = os.path.join(folder, img)\n",
    "        img_arr = cv2.imread(img_path)\n",
    "\n",
    "        try:\n",
    "            img_arr = cv2.resize(img_arr, (IMAGE_SIZE, IMAGE_SIZE))\n",
    "            \n",
    "        except Exception as e: \n",
    "            print('Error:', e)\n",
    "            print('Image Path:', img_path)\n",
    "\n",
    "        data.append([img_arr, label])\n",
    "        \n",
    "print(f'Total Data: {len(data)} images.')\n"
   ]
  },
  {
   "cell_type": "code",
   "execution_count": 47,
   "metadata": {},
   "outputs": [],
   "source": [
    "X,y = [], []\n",
    "random.shuffle(data)\n",
    "for features, labels in data:\n",
    "    X.append(features)\n",
    "    y.append(labels)\n",
    "\n",
    "X,y = np.array(X), np.array(y)\n",
    "\n",
    "pickle.dump(X, open('X.pkl', 'wb'))\n",
    "pickle.dump(y, open('y.pkl', 'wb'))"
   ]
  }
 ],
 "metadata": {
  "kernelspec": {
   "display_name": "datascience",
   "language": "python",
   "name": "python3"
  },
  "language_info": {
   "codemirror_mode": {
    "name": "ipython",
    "version": 3
   },
   "file_extension": ".py",
   "mimetype": "text/x-python",
   "name": "python",
   "nbconvert_exporter": "python",
   "pygments_lexer": "ipython3",
   "version": "3.10.11"
  },
  "orig_nbformat": 4
 },
 "nbformat": 4,
 "nbformat_minor": 2
}
